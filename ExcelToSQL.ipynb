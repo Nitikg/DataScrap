{
 "cells": [
  {
   "cell_type": "code",
   "execution_count": 6,
   "metadata": {},
   "outputs": [],
   "source": [
    "import pandas as pd"
   ]
  },
  {
   "cell_type": "code",
   "execution_count": 9,
   "metadata": {},
   "outputs": [
    {
     "name": "stdout",
     "output_type": "stream",
     "text": [
      "SQL insert scripts for posts have been written to SqlOutput/insert_posts_statements.sql\n"
     ]
    }
   ],
   "source": [
    "import pandas as pd\n",
    "\n",
    "# Read the Excel file\n",
    "file_path = 'ExlOutput/AWSML_Q10.xlsx'  # Replace with your actual file path\n",
    "df = pd.read_excel(file_path) \n",
    "\n",
    "# Define the base SQL template for posts table\n",
    "sql_post_template = \"\"\"\n",
    "INSERT INTO wp_jrf23a6sz5_posts\n",
    "(`post_author`, `post_date`, `post_date_gmt`, `post_content`, `post_title`, \n",
    " `post_excerpt`, `post_status`, `comment_status`, `ping_status`, `post_password`, \n",
    " `post_name`, `to_ping`, `pinged`, `post_modified`, `post_modified_gmt`, \n",
    " `post_content_filtered`, `post_parent`, `guid`, `menu_order`, `post_type`, \n",
    " `post_mime_type`, `comment_count`) \n",
    "VALUES \n",
    "(2, \n",
    " NOW(), \n",
    " NOW(), \n",
    " '{post_content}', \n",
    " '{post_title}', \n",
    " '', \n",
    " 'Publish', \n",
    " 'closed', \n",
    " '', \n",
    " '', \n",
    " 'AWS ML Question-{id}', \n",
    " '', \n",
    " '', \n",
    " NOW(), \n",
    " NOW(), \n",
    " '', \n",
    " 0, \n",
    " 'http://corporateschool.local/?post_type=lp_question&p={id}', \n",
    " 0, \n",
    " 'lp_question', \n",
    " '', \n",
    " 0);\n",
    "\"\"\"\n",
    "\n",
    "# Define the base SQL template for answers table\n",
    "sql_answer_template = \"\"\"\n",
    "INSERT INTO wp_jrf23a6sz5_learnpress_question_answers\n",
    "(`question_id`, `title`, `value`, `order`, `is_true`) \n",
    "VALUES \n",
    "({question_id}, '{title}', '{value}', {order}, {is_true});\n",
    "\"\"\"\n",
    "\n",
    "# Function to generate the SQL insert script for both tables\n",
    "def generate_sql_script(df):\n",
    "    sql_post_scripts = []\n",
    "    sql_answer_scripts = []\n",
    "    sql_postmeta_script = []\n",
    "    \n",
    "    for index, row in df.iterrows():\n",
    "        post_content = row['Question Text (HTML)']\n",
    "        post_title = row['Question no.']\n",
    "        post_id = index + 1  # Assuming auto-increment starts at 1, adjust if needed\n",
    "        \n",
    "        # Generate SQL for posts table\n",
    "        post_sql = sql_post_template.format(post_content=post_content.replace(\"'\", \"''\"), \n",
    "                                            post_title=post_title.replace(\"'\", \"''\"), \n",
    "                                            id=post_id)\n",
    "        sql_post_scripts.append(post_sql)\n",
    "        \n",
    "        # Get the correct answers as a list from the 'Correct Answer(s)' column\n",
    "        correct_answers = str(row['Correct answer(s)']).split(',')\n",
    "        correct_answers = [answer.strip() for answer in correct_answers]  # Clean up spaces\n",
    "\n",
    "        # Generate SQL for each answer based on Option columns\n",
    "        for answer_order in range(1, 6):  # Assuming maximum 5 options (Option 1 to Option 5)\n",
    "            option_col = f'Option {answer_order}'\n",
    "            \n",
    "            if option_col in row and pd.notna(row[option_col]):\n",
    "                answer_text = row[option_col]\n",
    "                \n",
    "                # Check if the current option (e.g., \"B\", \"D\") is listed as a correct answer\n",
    "                is_true = 1 if chr(64 + answer_order) in correct_answers else 0\n",
    "                \n",
    "                # Generate SQL for answers table\n",
    "                answer_sql = sql_answer_template.format(question_id= \"@lastQuestionId\",\n",
    "                                                        title=answer_text.replace(\"'\", \"''\"),\n",
    "                                                        value=answer_text.replace(\"'\", \"''\"),  # Assuming title and value are the same\n",
    "                                                        order=answer_order,\n",
    "                                                        is_true=is_true)\n",
    "                sql_answer_scripts.append(answer_sql)\n",
    "\n",
    "\n",
    "    \n",
    "    return sql_post_scripts, sql_answer_scripts\n"
   ]
  },
  {
   "cell_type": "code",
   "execution_count": 11,
   "metadata": {},
   "outputs": [
    {
     "name": "stdout",
     "output_type": "stream",
     "text": [
      "SQL insert scripts for posts have been written to SqlOutput/insert_posts_statements.sql\n"
     ]
    }
   ],
   "source": [
    "\n",
    "# Generate SQL scripts\n",
    "sql_post_scripts, sql_answer_scripts = generate_sql_script(df)\n",
    "\n",
    "# Save the SQL scripts to files\n",
    "output_file_posts = 'SqlOutput/insert_posts_statements.sql'\n",
    "# output_file_answers = 'SqlOutput\\insert_answers_statements.sql'\n",
    "\n",
    "with open(output_file_posts, 'w', encoding='utf-8') as f_posts:\n",
    "    for script in sql_post_scripts:\n",
    "        f_posts.write(script + '\\n')\n",
    "        f_posts.write(\"set @lastQuestionId = LAST_Insert_ID();\" + '\\n')\n",
    "    for script in sql_answer_scripts:\n",
    "        f_posts.write(script + '\\n')\n",
    "\n",
    "# with open(output_file_answers, 'w', encoding='utf-8') as f_answers:\n",
    "#     for script in sql_answer_scripts:\n",
    "#         f_answers.write(script + '\\n')\n",
    "\n",
    "print(f\"SQL insert scripts for posts have been written to {output_file_posts}\")\n",
    "# print(f\"SQL insert scripts for answers have been written to {output_file_answers}\")\n"
   ]
  }
 ],
 "metadata": {
  "kernelspec": {
   "display_name": "Python 3",
   "language": "python",
   "name": "python3"
  },
  "language_info": {
   "codemirror_mode": {
    "name": "ipython",
    "version": 3
   },
   "file_extension": ".py",
   "mimetype": "text/x-python",
   "name": "python",
   "nbconvert_exporter": "python",
   "pygments_lexer": "ipython3",
   "version": "3.12.3"
  }
 },
 "nbformat": 4,
 "nbformat_minor": 2
}
